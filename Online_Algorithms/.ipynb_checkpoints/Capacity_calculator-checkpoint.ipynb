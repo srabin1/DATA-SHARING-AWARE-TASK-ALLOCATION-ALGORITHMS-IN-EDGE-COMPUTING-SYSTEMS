{
 "cells": [
  {
   "cell_type": "code",
   "execution_count": 65,
   "id": "0442a24c",
   "metadata": {},
   "outputs": [],
   "source": [
    "import random\n",
    "import numpy as np"
   ]
  },
  {
   "cell_type": "code",
   "execution_count": 66,
   "id": "26a369b1",
   "metadata": {},
   "outputs": [],
   "source": [
    "theta = -4558.52\n",
    "vartheta = 7.683\n",
    "# Define the range [a, b]\n",
    "low_light = 700\n",
    "high_light = 1000\n",
    "low_moderate = 1100\n",
    "high_moderate = 1400\n",
    "low_heavy = 1500\n",
    "high_heavy = 1900\n",
    "time_energy_manager = 10"
   ]
  },
  {
   "cell_type": "code",
   "execution_count": 67,
   "id": "38075726",
   "metadata": {},
   "outputs": [
    {
     "name": "stdout",
     "output_type": "stream",
     "text": [
      "Generated memory amount according to normal distribution:\n",
      "5084.08970595848\n",
      "5615.740584112941\n",
      "4595.34202010808\n",
      "4645.956188347421\n",
      "4800.698605243949\n"
     ]
    }
   ],
   "source": [
    "# Normal distribution to generate memory amount: C2i\n",
    "\n",
    "# Define the parameters of the normal distribution\n",
    "std_dev = 500  # Standard deviation\n",
    "\n",
    "# Generate 5 random numbers following a normal distribution\n",
    "num_samples = 5  # Number of random samples\n",
    "random_numbers_normal = np.random.normal(mean, std_dev, num_samples)\n",
    "\n",
    "# Print the generated random numbers\n",
    "print(\"Generated memory amount according to normal distribution:\")\n",
    "for number in random_numbers_normal:\n",
    "    print(number)"
   ]
  },
  {
   "cell_type": "code",
   "execution_count": 68,
   "id": "2b3e9db2",
   "metadata": {},
   "outputs": [
    {
     "name": "stdout",
     "output_type": "stream",
     "text": [
      "Random numbers from U[1, 10000]/1000 in second:\n",
      "4.029056160080791\n",
      "3.748353039470658\n",
      "1.1443767943510217\n",
      "3.4573993733039714\n",
      "7.475799019178011\n"
     ]
    }
   ],
   "source": [
    "# Generate 5 numbers in seconds according to \n",
    "# uniform distribution for r1i\n",
    "random_numbers_second = [(random.uniform(1, 10000))/1000 for _ in range(5)]\n",
    "print(\"Random numbers from U[1, 10000]/1000 in second:\")\n",
    "for number in random_numbers_second:\n",
    "    print(number)"
   ]
  },
  {
   "cell_type": "code",
   "execution_count": 73,
   "id": "3114b725",
   "metadata": {},
   "outputs": [],
   "source": [
    "random_choice_second = random.choice(random_numbers_second)"
   ]
  },
  {
   "cell_type": "raw",
   "id": "fc4eae53",
   "metadata": {},
   "source": [
    "print(random_choice_second)"
   ]
  },
  {
   "cell_type": "code",
   "execution_count": 74,
   "id": "cea44916",
   "metadata": {},
   "outputs": [
    {
     "name": "stdout",
     "output_type": "stream",
     "text": [
      "Random numbers from U[700, 1000] in light case:\n",
      "723.2451076957407\n",
      "793.3478056066336\n",
      "712.2702511164825\n",
      "948.6153079530487\n",
      "799.0814406528581\n"
     ]
    }
   ],
   "source": [
    "random_numbers_light = [random.uniform(low_light, high_light) for _ in range(5)]\n",
    "print(\"Random numbers from U[700, 1000] in light case:\")\n",
    "for number in random_numbers_light:\n",
    "    print(number)"
   ]
  },
  {
   "cell_type": "code",
   "execution_count": 75,
   "id": "f42112d6",
   "metadata": {},
   "outputs": [
    {
     "name": "stdout",
     "output_type": "stream",
     "text": [
      "Random numbers from U[1100, 1400] in moderate case:\n",
      "1310.4661430031172\n",
      "1137.5531879300893\n",
      "1146.5982710915348\n",
      "1127.1683628018134\n",
      "1174.534122284496\n"
     ]
    }
   ],
   "source": [
    "random_numbers_moderate = [random.uniform(low_moderate, high_moderate) for _ in range(5)]\n",
    "print(\"Random numbers from U[1100, 1400] in moderate case:\")\n",
    "for number in random_numbers_moderate:\n",
    "    print(number)"
   ]
  },
  {
   "cell_type": "code",
   "execution_count": 76,
   "id": "317394eb",
   "metadata": {},
   "outputs": [
    {
     "name": "stdout",
     "output_type": "stream",
     "text": [
      "Random numbers from U[71500, 1900] in heavy case:\n",
      "1744.8828665623669\n",
      "1680.4919073917065\n",
      "1703.4367148119281\n",
      "1609.1944913874988\n",
      "1803.7365698921599\n"
     ]
    }
   ],
   "source": [
    "random_numbers_heavy = [random.uniform(low_heavy, high_heavy) for _ in range(5)]\n",
    "print(\"Random numbers from U[71500, 1900] in heavy case:\")\n",
    "for number in random_numbers_heavy:\n",
    "    print(number)"
   ]
  },
  {
   "cell_type": "code",
   "execution_count": 77,
   "id": "57c527f7",
   "metadata": {},
   "outputs": [
    {
     "name": "stdout",
     "output_type": "stream",
     "text": [
      "Random numbers from all cases:\n",
      "723.2451076957407\n",
      "793.3478056066336\n",
      "712.2702511164825\n",
      "948.6153079530487\n",
      "799.0814406528581\n",
      "1310.4661430031172\n",
      "1137.5531879300893\n",
      "1146.5982710915348\n",
      "1127.1683628018134\n",
      "1174.534122284496\n",
      "1744.8828665623669\n",
      "1680.4919073917065\n",
      "1703.4367148119281\n",
      "1609.1944913874988\n",
      "1803.7365698921599\n"
     ]
    }
   ],
   "source": [
    "consolidated_list= [item for sublist in [random_numbers_light, random_numbers_moderate, random_numbers_heavy] for item in sublist]\n",
    "print(\"Random numbers from all cases:\")\n",
    "for number in consolidated_list:\n",
    "    print(number)"
   ]
  },
  {
   "cell_type": "code",
   "execution_count": 78,
   "id": "c53dba34",
   "metadata": {},
   "outputs": [],
   "source": [
    "random_choice = random.choice(consolidated_list)"
   ]
  },
  {
   "cell_type": "code",
   "execution_count": 79,
   "id": "c2442093",
   "metadata": {},
   "outputs": [],
   "source": [
    "# Calculate CPU capcity\n",
    "cpu_capacity = (vartheta*random_choice+ theta)* (time_energy_manager - random_choice_second)"
   ]
  },
  {
   "cell_type": "code",
   "execution_count": 80,
   "id": "48a42c72",
   "metadata": {},
   "outputs": [
    {
     "data": {
      "text/plain": [
       "16298.834115410367"
      ]
     },
     "execution_count": 80,
     "metadata": {},
     "output_type": "execute_result"
    }
   ],
   "source": [
    "cpu_capacity"
   ]
  }
 ],
 "metadata": {
  "kernelspec": {
   "display_name": "Python 3 (ipykernel)",
   "language": "python",
   "name": "python3"
  },
  "language_info": {
   "codemirror_mode": {
    "name": "ipython",
    "version": 3
   },
   "file_extension": ".py",
   "mimetype": "text/x-python",
   "name": "python",
   "nbconvert_exporter": "python",
   "pygments_lexer": "ipython3",
   "version": "3.9.12"
  }
 },
 "nbformat": 4,
 "nbformat_minor": 5
}
