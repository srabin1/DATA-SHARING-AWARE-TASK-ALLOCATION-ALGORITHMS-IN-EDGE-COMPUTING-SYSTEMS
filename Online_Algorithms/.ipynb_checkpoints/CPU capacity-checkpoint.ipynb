{
 "cells": [
  {
   "cell_type": "code",
   "execution_count": 1,
   "id": "f66860e2",
   "metadata": {},
   "outputs": [],
   "source": [
    "import random"
   ]
  },
  {
   "cell_type": "code",
   "execution_count": 2,
   "id": "20985583",
   "metadata": {},
   "outputs": [],
   "source": [
    "import csv"
   ]
  },
  {
   "cell_type": "code",
   "execution_count": 3,
   "id": "1b4fe64e",
   "metadata": {},
   "outputs": [],
   "source": [
    "#Uniform distribution to generate memory amount: Cm\n",
    "\n",
    "random_numbers_memory = [round(random.uniform(1, 100), 2) for _ in range(1000)]"
   ]
  },
  {
   "cell_type": "code",
   "execution_count": 80,
   "id": "d5126372",
   "metadata": {},
   "outputs": [],
   "source": [
    "# print(\"Random numbers from U[1, 10000]/1000 in second:\")\n",
    "# for number in random_numbers_memory:\n",
    "#     print(number)"
   ]
  },
  {
   "cell_type": "code",
   "execution_count": 6,
   "id": "46aa4f9d",
   "metadata": {},
   "outputs": [],
   "source": [
    "#By default CPU is 100,000 = 100 Gig MIPS"
   ]
  },
  {
   "cell_type": "code",
   "execution_count": 92,
   "id": "04c38168",
   "metadata": {},
   "outputs": [],
   "source": [
    "cpu = [100] * 1000"
   ]
  },
  {
   "cell_type": "code",
   "execution_count": 93,
   "id": "9ef90009",
   "metadata": {},
   "outputs": [],
   "source": [
    "random_time = [round(random.uniform(1, 10), 2) for _ in range(1000)]"
   ]
  },
  {
   "cell_type": "code",
   "execution_count": 94,
   "id": "8a97d070",
   "metadata": {},
   "outputs": [],
   "source": [
    "random_numbers_low1 = [round(random.uniform(0, 1), 2) for _ in range(200)]\n",
    "random_numbers_average1 = [round(random.uniform(1, 10), 2) for _ in range(600)]\n",
    "random_numbers_high1 = [round(random.uniform(10, 40), 2) for _ in range(200)]\n",
    "consolidated_list1= [item for sublist in [random_numbers_low1, random_numbers_average1, random_numbers_high1] for item in sublist] \n",
    "\n",
    "#cpu1 = random.shuffle(consolidated_list1)\n",
    "request1 = random.sample(consolidated_list1, len(consolidated_list1))"
   ]
  },
  {
   "cell_type": "code",
   "execution_count": 69,
   "id": "02e3f855",
   "metadata": {},
   "outputs": [
    {
     "data": {
      "text/plain": [
       "list"
      ]
     },
     "execution_count": 69,
     "metadata": {},
     "output_type": "execute_result"
    }
   ],
   "source": [
    "type(request1)"
   ]
  },
  {
   "cell_type": "code",
   "execution_count": 95,
   "id": "9a9ee4e6",
   "metadata": {},
   "outputs": [],
   "source": [
    "random_numbers_low2 = [round(random.uniform(0, 1), 2) for _ in range(200)]\n",
    "random_numbers_average2 = [round(random.uniform(1, 10), 2) for _ in range(200)]\n",
    "random_numbers_high2 = [round(random.uniform(10, 40), 2) for _ in range(600)]\n",
    "consolidated_list2= [item for sublist in [random_numbers_low2, random_numbers_average2, random_numbers_high2] for item in sublist] \n",
    "request2 = random.sample(consolidated_list2, len(consolidated_list2))"
   ]
  },
  {
   "cell_type": "code",
   "execution_count": 96,
   "id": "c188d564",
   "metadata": {},
   "outputs": [],
   "source": [
    "random_numbers_low3 = [round(random.uniform(0, 1), 2) for _ in range(600)]\n",
    "random_numbers_average3 = [round(random.uniform(1, 10), 2) for _ in range(200)]\n",
    "random_numbers_high3 = [round(random.uniform(10, 40), 2) for _ in range(200)]\n",
    "consolidated_list3= [item for sublist in [random_numbers_low3, random_numbers_average3, random_numbers_high3] for item in sublist] \n",
    "request3 = random.sample(consolidated_list3, len(consolidated_list3))"
   ]
  },
  {
   "cell_type": "code",
   "execution_count": 97,
   "id": "7dedb472",
   "metadata": {},
   "outputs": [
    {
     "name": "stdout",
     "output_type": "stream",
     "text": [
      "CSV file 'random_memory.csv' has been created with data in column.\n"
     ]
    }
   ],
   "source": [
    "csv_file_name = 'random_memory.csv'\n",
    "\n",
    "with open(csv_file_name, 'w', newline = '') as csv_file:\n",
    "    csv_writer = csv.writer(csv_file)\n",
    "    \n",
    "    # Write the header row (optional)\n",
    "    csv_writer.writerow(['Random memory'])\n",
    "    \n",
    "    #store it in first column\n",
    "    for number in random_numbers_memory:\n",
    "        csv_writer.writerow([number])\n",
    "\n",
    "print(f\"CSV file '{csv_file_name}' has been created with data in column.\")"
   ]
  },
  {
   "cell_type": "code",
   "execution_count": 98,
   "id": "1d722def",
   "metadata": {},
   "outputs": [
    {
     "name": "stdout",
     "output_type": "stream",
     "text": [
      "CSV file 'random_memory_cpu.csv' has been created.\n"
     ]
    }
   ],
   "source": [
    "csv_file_name = 'random_memory_cpu.csv'\n",
    "\n",
    "with open(csv_file_name, 'w', newline = '') as csv_file:\n",
    "    csv_writer = csv.writer(csv_file)\n",
    "    \n",
    "    # Write the header row (optional)\n",
    "    csv_writer.writerow(['memory', 'cpu', 'time', 'request1', 'request2', 'request3'])\n",
    "    \n",
    "    # Iterate over the two lists and write data to the CSV\n",
    "    for num_memory, cpu_list, time_list, num_r1, num_r2, num_r3 in zip(random_numbers_memory, cpu, random_time, request1, request2, request3):\n",
    "        csv_writer.writerow([num_memory, cpu_list, time_list, num_r1, num_r2, num_r3])\n",
    "\n",
    "print(f\"CSV file '{csv_file_name}' has been created.\")"
   ]
  },
  {
   "cell_type": "code",
   "execution_count": 106,
   "id": "f25cdeab",
   "metadata": {},
   "outputs": [
    {
     "name": "stdout",
     "output_type": "stream",
     "text": [
      "CSV file 'random_memory_cpu1.csv' has been created.\n"
     ]
    }
   ],
   "source": [
    "csv_file_name = 'random_memory_cpu1.csv'\n",
    "\n",
    "with open(csv_file_name, 'w', newline = '') as csv_file:\n",
    "    csv_writer = csv.writer(csv_file)\n",
    "    \n",
    "    # Write the header row (optional)\n",
    "    csv_writer.writerow(['request1', 'time', 'cpu', 'memory'])\n",
    "    \n",
    "    # Iterate over the two lists and write data to the CSV\n",
    "    for num_r1, time_list, cpu_list, num_memory in zip(request1, random_time, cpu, random_numbers_memory):\n",
    "        csv_writer.writerow([num_r1, time_list, cpu_list, num_memory])\n",
    "\n",
    "print(f\"CSV file '{csv_file_name}' has been created.\")"
   ]
  },
  {
   "cell_type": "code",
   "execution_count": 107,
   "id": "f7177c05",
   "metadata": {},
   "outputs": [
    {
     "name": "stdout",
     "output_type": "stream",
     "text": [
      "CSV file 'random_memory_cpu2.csv' has been created.\n"
     ]
    }
   ],
   "source": [
    "csv_file_name = 'random_memory_cpu2.csv'\n",
    "\n",
    "with open(csv_file_name, 'w', newline = '') as csv_file:\n",
    "    csv_writer = csv.writer(csv_file)\n",
    "    \n",
    "    # Write the header row (optional)\n",
    "    csv_writer.writerow(['request2', 'time', 'cpu', 'memory'])\n",
    "    \n",
    "    # Iterate over the two lists and write data to the CSV\n",
    "    for num_r1, time_list, cpu_list, num_memory in zip(request2, random_time, cpu, random_numbers_memory):\n",
    "        csv_writer.writerow([num_r1, time_list, cpu_list, num_memory])\n",
    "\n",
    "print(f\"CSV file '{csv_file_name}' has been created.\")"
   ]
  },
  {
   "cell_type": "code",
   "execution_count": 108,
   "id": "cfb6431e",
   "metadata": {},
   "outputs": [
    {
     "name": "stdout",
     "output_type": "stream",
     "text": [
      "CSV file 'random_memory_cpu3.csv' has been created.\n"
     ]
    }
   ],
   "source": [
    "csv_file_name = 'random_memory_cpu3.csv'\n",
    "\n",
    "with open(csv_file_name, 'w', newline = '') as csv_file:\n",
    "    csv_writer = csv.writer(csv_file)\n",
    "    \n",
    "    # Write the header row (optional)\n",
    "    csv_writer.writerow(['request3', 'time', 'cpu', 'memory'])\n",
    "    \n",
    "    # Iterate over the two lists and write data to the CSV\n",
    "    for num_r1, time_list, cpu_list, num_memory in zip(request3, random_time, cpu, random_numbers_memory):\n",
    "        csv_writer.writerow([num_r1, time_list, cpu_list, num_memory])\n",
    "\n",
    "print(f\"CSV file '{csv_file_name}' has been created.\")"
   ]
  },
  {
   "cell_type": "code",
   "execution_count": 103,
   "id": "c9fcdc67",
   "metadata": {},
   "outputs": [],
   "source": [
    "rows, cols = 1000, 1000\n",
    "\n",
    "# Generate a 2D array filled with random 0s and 1s\n",
    "two_dimensional_array = [[random.randint(0, 1) for _ in range(cols)] for _ in range(rows)]\n",
    "\n",
    "# Print the two-dimensional array\n",
    "# for row in two_dimensional_array:\n",
    "#     print(row)"
   ]
  },
  {
   "cell_type": "code",
   "execution_count": 104,
   "id": "3a7dbd41",
   "metadata": {},
   "outputs": [
    {
     "name": "stdout",
     "output_type": "stream",
     "text": [
      "The data has been saved to matrix.csv.\n"
     ]
    }
   ],
   "source": [
    "# Define the CSV file name\n",
    "csv_file = \"matrix.csv\"\n",
    "\n",
    "# Write the 2D array to a CSV file\n",
    "with open(csv_file, mode='w', newline='') as file:\n",
    "    writer = csv.writer(file)\n",
    "    writer.writerows(two_dimensional_array)\n",
    "\n",
    "print(f\"The data has been saved to {csv_file}.\")"
   ]
  },
  {
   "cell_type": "code",
   "execution_count": 109,
   "id": "0bdf6653",
   "metadata": {},
   "outputs": [],
   "source": [
    "# import pandas as pd\n",
    "\n",
    "# # Load the matrix from matrix.csv\n",
    "# matrix_df = pd.read_csv('matrix.csv', header=None)\n",
    "\n",
    "# # Load the request information from request.csv\n",
    "# request_df = pd.read_csv('random_memory_cpu1.csv')\n",
    "\n",
    "# # Create a list to store the lines\n",
    "# lines = []\n",
    "\n",
    "# # Add the matrix to the lines\n",
    "# for _, row in matrix_df.iterrows():\n",
    "#     matrix_line = ' '.join(map(str, row.tolist()))\n",
    "#     lines.append(matrix_line)\n",
    "\n",
    "# # Add the request information to the lines\n",
    "# for _, row in request_df.iterrows():\n",
    "#     request_line = ','.join(map(str, row.tolist()))\n",
    "#     lines.append(request_line)\n",
    "\n",
    "# # Join the lines into a single string\n",
    "# instance_text = '\\n'.join(lines)\n",
    "\n",
    "# # Write the instance text to a text file\n",
    "# with open('instance1.txt', 'w') as file:\n",
    "#     file.write(instance_text)\n"
   ]
  },
  {
   "cell_type": "code",
   "execution_count": 110,
   "id": "450e7fdf",
   "metadata": {},
   "outputs": [],
   "source": [
    "import pandas as pd\n",
    "\n",
    "# Load the matrix from matrix.csv\n",
    "matrix_df = pd.read_csv('matrix.csv', header=None)\n",
    "\n",
    "# Load the request information from request.csv\n",
    "request_df = pd.read_csv('random_memory_cpu1.csv')\n",
    "\n",
    "# Create a list to store the lines\n",
    "lines = []\n",
    "\n",
    "# Add the matrix to the lines\n",
    "for _, row in matrix_df.iterrows():\n",
    "    matrix_line = ' '.join(map(str, row.tolist()))\n",
    "    lines.append(matrix_line)\n",
    "\n",
    "# Transpose the request DataFrame to convert columns to rows\n",
    "request_df = request_df.transpose()\n",
    "\n",
    "# Add the request information to the lines\n",
    "for _, row in request_df.iterrows():\n",
    "    request_line = ','.join(map(str, row.tolist()))\n",
    "    lines.append(request_line)\n",
    "\n",
    "# Join the lines into a single string\n",
    "instance_text = '\\n'.join(lines)\n",
    "\n",
    "# Write the instance text to a text file\n",
    "with open('instance2.txt', 'w') as file:\n",
    "    file.write(instance_text)\n"
   ]
  },
  {
   "cell_type": "code",
   "execution_count": null,
   "id": "849a1576",
   "metadata": {},
   "outputs": [],
   "source": []
  },
  {
   "cell_type": "code",
   "execution_count": null,
   "id": "d4fed71e",
   "metadata": {},
   "outputs": [],
   "source": []
  }
 ],
 "metadata": {
  "kernelspec": {
   "display_name": "Python 3 (ipykernel)",
   "language": "python",
   "name": "python3"
  },
  "language_info": {
   "codemirror_mode": {
    "name": "ipython",
    "version": 3
   },
   "file_extension": ".py",
   "mimetype": "text/x-python",
   "name": "python",
   "nbconvert_exporter": "python",
   "pygments_lexer": "ipython3",
   "version": "3.9.12"
  }
 },
 "nbformat": 4,
 "nbformat_minor": 5
}
