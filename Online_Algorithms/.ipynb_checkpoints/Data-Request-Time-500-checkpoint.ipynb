{
 "cells": [
  {
   "cell_type": "code",
   "execution_count": 10,
   "id": "f66860e2",
   "metadata": {},
   "outputs": [],
   "source": [
    "import random\n",
    "import csv\n",
    "import numpy as np"
   ]
  },
  {
   "cell_type": "code",
   "execution_count": 11,
   "id": "e06496af",
   "metadata": {},
   "outputs": [
    {
     "name": "stdout",
     "output_type": "stream",
     "text": [
      "Request saved to 'request.txt'\n",
      "Request saved to 'request.csv'\n"
     ]
    }
   ],
   "source": [
    "#Generate request with normal distribution\n",
    "\n",
    "# Define the parameters of the normal distribution\n",
    "mu = 20  # Mean (as a float)\n",
    "sigma = 4  # Standard deviation (as a float)\n",
    "n = 500  # Number of random numbers to generate\n",
    "\n",
    "# Generate 'n' random numbers with a normal distribution\n",
    "random_numbers = np.random.normal(mu, sigma, n)\n",
    "\n",
    "# Clip the values to be within the range [1, 100]\n",
    "random_numbers = np.clip(random_numbers, 1, 50)\n",
    "\n",
    "# Round the numbers to two decimal places (dtype: float)\n",
    "random_numbers = np.round(random_numbers, 1)\n",
    "\n",
    "# Define the .txt file path\n",
    "txt_file_path = 'request.txt'\n",
    "csv_file_path = 'request.csv'\n",
    "\n",
    "# Save the random numbers in a horizontal .txt file with commas\n",
    "with open(txt_file_path, 'w') as txtfile:\n",
    "    txtfile.write(\"Request:\\n\")\n",
    "    txtfile.write(\",\".join(map(str, random_numbers)))\n",
    "    \n",
    "# Save the random numbers in a CSV file\n",
    "with open(csv_file_path, 'w', newline='') as csvfile:\n",
    "    csvwriter = csv.writer(csvfile)\n",
    "    csvwriter.writerow(['Request'])  # Header\n",
    "    for number in random_numbers:\n",
    "        csvwriter.writerow([number])\n",
    "\n",
    "print(f\"Request saved to '{txt_file_path}'\")\n",
    "print(f\"Request saved to '{csv_file_path}'\")"
   ]
  },
  {
   "cell_type": "code",
   "execution_count": 12,
   "id": "aa0d793c",
   "metadata": {},
   "outputs": [
    {
     "name": "stdout",
     "output_type": "stream",
     "text": [
      "12.0,19.2,22.6,12.4,31.7,6.7,24.4,29.5,24.9,42.6,31.9,26.0,18.6,19.6,43.6,24.7,44.8,31.3,10.7,5.8,21.7,8.0,13.6,9.8,42.2,19.6,16.6,27.0,9.0,29.2,24.7,38.9,38.8,14.5,11.4,20.5,29.6,25.3,20.4,20.7,36.5,36.8,48.0,12.0,38.0,46.3,37.2,32.8,35.0,37.5,37.9,5.1,46.2,45.5,32.8,19.9,29.3,19.0,20.6,27.2,21.1,28.5,19.1,8.8,18.6,10.7,12.7,18.6,37.4,10.1,34.3,19.4,10.5,5.7,38.5,27.9,36.5,42.3,32.0,37.6,33.2,38.9,43.3,47.6,18.4,7.8,39.4,37.7,22.5,24.1,20.1,7.2,39.6,46.8,40.7,8.3,41.8,29.1,35.9,19.8,34.7,43.5,38.3,20.7,39.9,39.9,45.6,33.0,11.7,47.8,10.5,46.0,18.7,8.5,49.8,25.6,43.3,26.7,9.6,42.0,33.2,14.0,23.6,19.2,19.0,49.4,18.5,10.7,32.9,20.6,47.9,11.1,12.9,23.4,5.5,43.1,30.3,12.5,38.7,29.0,30.5,46.4,26.9,36.6,21.2,14.6,12.3,10.4,18.7,45.6,19.6,19.0,6.4,27.6,13.1,22.2,29.6,40.9,22.2,28.7,10.2,22.9,39.2,9.4,15.8,25.5,44.0,11.9,49.7,5.5,6.3,7.7,24.6,46.3,10.5,19.3,19.9,41.0,13.4,48.3,31.2,16.1,39.9,39.7,16.0,39.9,5.4,44.4,26.3,20.6,37.1,6.7,32.2,44.3,46.2,5.7,15.8,13.7,33.2,29.8,25.2,49.2,45.6,10.5,43.8,28.5,41.6,32.4,9.0,26.7,32.9,25.5,29.8,49.2,31.6,28.3,17.4,14.5,26.0,8.8,19.7,44.0,45.9,33.3,42.4,48.7,34.9,13.4,42.6,37.1,20.1,24.8,49.1,46.3,8.4,13.3,40.4,15.2,36.8,16.2,35.1,42.0,21.1,40.5,11.9,5.3,11.6,35.5,42.5,30.9,35.6,6.1,48.6,14.1,9.5,34.0,29.9,6.9,6.0,23.5,47.6,11.9,42.6,8.5,37.4,32.4,20.7,25.3,16.8,38.0,17.2,41.3,44.7,37.4,11.3,15.8,43.2,43.6,44.4,10.5,29.5,16.2,31.2,19.6,39.6,14.7,47.4,37.4,29.1,30.8,32.5,24.3,29.6,46.2,6.8,44.0,23.9,15.0,30.9,31.6,10.7,33.2,39.4,35.9,7.0,11.2,30.2,8.5,30.0,37.1,35.0,6.2,25.7,8.8,46.4,22.2,16.6,49.1,22.6,12.6,8.6,34.6,11.1,29.5,21.5,9.6,14.0,8.2,32.1,24.4,42.5,34.1,12.2,36.4,46.5,7.2,34.8,40.7,13.0,40.2,49.1,18.7,43.0,31.9,5.7,44.4,27.0,7.1,26.1,44.3,22.6,14.5,42.7,19.3,44.2,14.0,40.7,49.1,26.9,10.8,23.5,47.5,26.5,15.0,34.1,43.1,33.8,48.3,24.7,30.3,33.3,20.2,10.8,31.0,15.1,31.0,23.5,41.8,42.2,17.1,32.6,23.3,27.1,9.2,20.9,43.9,12.1,5.5,49.7,7.6,32.0,38.1,32.6,25.1,36.2,22.2,7.5,42.9,10.6,19.0,33.2,19.3,9.8,33.7,23.9,45.4,37.9,29.0,15.5,23.1,16.1,17.2,40.0,48.6,12.7,13.1,14.1,23.3,29.2,13.0,22.8,25.5,39.3,6.2,18.5,41.7,45.3,48.6,22.6,20.2,10.6,28.8,13.1,21.0,23.5,31.7,45.6,49.3,41.3,46.6,19.5,29.2,28.6,45.2,47.8,9.9,5.6,29.1,45.4,48.8,37.2,12.3,37.9,15.1,32.6,33.1,27.5,6.1,34.0,34.3,30.6,28.9,24.9,11.5,34.2,13.3,23.4,6.8,6.0,23.0,43.1,26.9,9.5,10.4,23.1,7.4,28.8,18.4,34.9,39.7,16.1,45.7,13.9,17.6,42.1,11.0,46.4,40.7,18.3,47.6,13.7,23.9,49.1,14.4,11.5,22.8,24.7,27.9,33.4,28.9\n",
      "30.3,33.7,42.6,39.8,48.6,48.2,47.8,49.7,31.6,44.5,35.6,47.1,25.7,36.8,46.2,26.2,45.5,43.3,29.0,6.5,32.3,43.3,20.8,19.2,48.1,46.9,36.9,27.2,29.5,35.8,45.4,43.2,42.5,44.6,46.2,31.3,32.7,48.9,37.7,21.8,40.5,47.2,48.4,35.0,45.1,47.2,47.4,41.5,40.7,49.4,39.4,13.2,48.0,48.7,39.5,50.0,32.9,29.4,42.6,49.8,25.0,44.9,48.8,40.3,34.1,23.2,12.8,24.0,37.6,18.5,42.2,45.9,18.2,30.3,40.0,37.2,48.2,43.7,45.0,40.7,41.4,44.4,47.1,49.7,34.1,49.6,45.3,42.0,28.8,35.6,48.5,35.7,40.7,48.9,47.9,34.1,44.6,48.9,45.9,49.4,38.7,49.6,41.8,32.5,46.7,46.0,49.9,38.2,34.8,49.0,18.2,49.7,34.6,9.2,49.9,31.1,47.3,49.7,35.8,43.9,46.6,25.8,33.9,40.0,31.7,49.7,48.8,34.6,42.8,36.8,49.3,27.2,20.1,26.8,42.2,48.7,44.9,29.8,48.6,48.9,41.8,47.4,40.4,39.2,25.9,39.8,14.1,34.0,44.4,45.8,31.6,23.2,44.5,44.5,18.6,49.9,31.1,47.3,37.2,41.0,45.9,41.5,41.0,33.5,38.3,34.8,44.6,23.9,49.8,23.5,18.5,22.4,43.7,48.6,36.2,43.1,49.4,47.3,25.8,48.5,32.3,25.8,43.3,43.5,37.1,48.3,32.7,45.6,30.2,45.6,37.6,24.3,33.5,44.4,49.5,43.4,31.4,32.2,35.3,43.8,42.0,49.7,48.6,42.8,46.8,29.7,49.8,37.7,27.7,46.1,42.3,46.8,44.0,49.7,36.0,48.1,46.8,32.6,43.4,30.0,42.3,49.1,47.0,49.1,45.1,49.8,42.8,25.5,43.8,40.8,21.9,47.5,49.9,46.9,43.7,42.0,42.2,37.7,45.0,41.0,46.7,44.8,25.9,44.9,45.0,38.9,22.9,44.0,48.9,36.7,45.6,12.2,48.7,20.8,42.7,48.9,47.5,26.7,43.6,28.8,48.3,45.5,44.7,38.5,48.5,46.6,39.1,25.8,48.3,40.3,47.8,42.4,49.8,39.2,43.8,34.8,48.9,49.8,48.6,29.2,44.9,24.7,49.9,37.6,44.7,40.5,48.0,43.4,46.5,37.2,40.1,39.8,33.9,49.1,39.8,48.4,39.5,18.7,38.9,36.5,43.1,49.4,43.3,42.6,32.1,44.7,31.2,32.2,35.1,49.2,35.6,7.7,26.5,29.4,47.4,29.5,48.2,49.8,30.0,28.9,43.6,44.7,47.8,43.9,36.4,30.3,30.2,16.0,32.7,26.8,43.1,48.5,22.4,41.3,46.6,49.1,46.9,41.8,35.6,46.0,50.0,50.0,48.0,43.2,45.8,45.5,34.5,25.1,30.2,44.9,40.2,45.0,49.5,40.8,49.8,33.1,43.1,49.8,27.8,16.5,47.9,49.9,31.2,38.4,46.4,49.6,40.7,49.8,35.5,47.0,36.0,42.2,21.4,31.9,38.3,40.4,28.0,46.3,48.8,18.5,37.4,35.6,28.5,48.0,27.9,49.8,26.5,20.6,50.0,38.6,33.3,41.7,45.7,44.2,49.3,42.9,43.2,43.4,24.1,38.9,46.2,42.6,12.0,45.4,36.1,47.8,47.9,43.1,23.1,23.6,24.3,37.4,46.8,48.8,39.6,38.5,32.1,39.6,32.9,39.7,33.1,37.9,41.2,6.6,30.3,49.9,45.7,48.8,24.5,48.9,10.8,34.7,20.9,49.0,29.2,41.3,48.1,49.9,43.8,47.6,26.1,32.4,48.4,45.6,48.1,24.1,29.9,34.9,47.4,49.9,44.1,30.8,38.6,34.8,37.3,47.7,37.4,14.3,40.4,37.1,48.8,48.3,29.1,36.6,43.7,16.4,30.1,43.0,8.4,46.8,48.5,33.6,33.2,10.9,32.0,31.8,33.8,21.7,46.7,49.2,48.0,49.4,20.0,27.4,46.0,18.7,47.9,45.8,41.3,48.3,38.3,48.3,49.4,35.5,28.9,48.5,28.9,45.2,39.7,30.3\n",
      "Data has been saved to arrival_termination_times.csv\n"
     ]
    }
   ],
   "source": [
    "# Generate 500 random arrival and termination times with uniform distribution\n",
    "arrival_times = [round(random.uniform(5.0, 50.0), 1) for _ in range(500)]\n",
    "#0.1 to make sure arrivl time is always greater than termination time\n",
    "termination_times = [round(random.uniform(arrival + 0.1, 50.0), 1) for arrival in arrival_times]\n",
    "\n",
    "# Convert the lists of arrival and termination times to strings in horizontal lines\n",
    "arrival_line = ','.join(map(str, arrival_times))\n",
    "termination_line = ','.join(map(str, termination_times))\n",
    "\n",
    "# Print the generated arrival and termination times in separate horizontal lines\n",
    "print(arrival_line)\n",
    "print(termination_line)\n",
    "\n",
    "# Create a list of tuples, each containing an arrival and termination time\n",
    "data = list(zip(arrival_times, termination_times))\n",
    "\n",
    "# Specify the name of the CSV file\n",
    "csv_file = \"arrival_termination_times.csv\"\n",
    "\n",
    "# Write the data to a CSV file\n",
    "with open(csv_file, mode='w', newline='') as file:\n",
    "    writer = csv.writer(file)\n",
    "    writer.writerow([\"Arrival Time\", \"Termination Time\"])  # Write header row\n",
    "    writer.writerows(data)  # Write data\n",
    "\n",
    "print(\"Data has been saved to\", csv_file)"
   ]
  },
  {
   "cell_type": "code",
   "execution_count": 4,
   "id": "7e32efea",
   "metadata": {},
   "outputs": [
    {
     "name": "stdout",
     "output_type": "stream",
     "text": [
      "data saved to 'data.csv'\n"
     ]
    }
   ],
   "source": [
    "#Generate data with normal distribution\n",
    "\n",
    "# Define the parameters of the normal distribution\n",
    "mu = 13  # Adjusted mean to center distribution in the desired range\n",
    "sigma = 4  # Adjusted standard deviation to control the spread\n",
    "n = 500  # Number of random numbers to generate\n",
    "\n",
    "# Generate 'n' random numbers with a normal distribution\n",
    "random_numbers = np.random.normal(mu, sigma, n)\n",
    "\n",
    "# Clip the values to be within the range [1, 50]\n",
    "random_numbers = np.clip(random_numbers, 1, 50)\n",
    "\n",
    "# Round the values to one decimal place\n",
    "random_numbers = np.round(random_numbers, 1)\n",
    "\n",
    "# Convert the values to integers\n",
    "random_numbers = random_numbers.astype(float)\n",
    "\n",
    "# Create an index column\n",
    "index_column = np.arange(1, n + 1)\n",
    "\n",
    "# Define the CSV file path\n",
    "csv_file_path = 'data.csv'\n",
    "\n",
    "# Write the random numbers and index to a CSV file\n",
    "with open(csv_file_path, 'w', newline='') as csvfile:\n",
    "    csv_writer = csv.writer(csvfile)\n",
    "    csv_writer.writerow(['index', 'value'])  # Write headers\n",
    "    for idx, num in zip(index_column, random_numbers):\n",
    "        csv_writer.writerow([idx, num])\n",
    "\n",
    "print(f\"data saved to '{csv_file_path}'\")\n"
   ]
  },
  {
   "cell_type": "code",
   "execution_count": 13,
   "id": "563692ca",
   "metadata": {},
   "outputs": [
    {
     "name": "stdout",
     "output_type": "stream",
     "text": [
      "CPU data saved to 'cpu_data.csv'\n"
     ]
    }
   ],
   "source": [
    "# Your data\n",
    "cpu = [100] * 100\n",
    "\n",
    "# Define the file path\n",
    "csv_file_path = 'cpu_data.csv'\n",
    "txt_file_path = 'cpu_data.txt'\n",
    "\n",
    "with open(txt_file_path, 'w') as txtfile:\n",
    "    txtfile.write(\"CPU:\\n\")\n",
    "    txtfile.write(\",\".join(map(str, cpu)))\n",
    "\n",
    "# Save the cpu values in a CSV file with a single column\n",
    "with open(csv_file_path, 'w', newline='') as csvfile:\n",
    "    csvwriter = csv.writer(csvfile)\n",
    "    csvwriter.writerow(['CPU'])  # Header\n",
    "    for value in cpu:\n",
    "        csvwriter.writerow([value])\n",
    "\n",
    "print(f\"CPU data saved to '{csv_file_path}'\")\n"
   ]
  },
  {
   "cell_type": "code",
   "execution_count": 14,
   "id": "be9eb20c",
   "metadata": {},
   "outputs": [
    {
     "name": "stdout",
     "output_type": "stream",
     "text": [
      "Memory data saved to 'memory_data.csv'\n"
     ]
    }
   ],
   "source": [
    "# Your data\n",
    "memory = [15000] * 100\n",
    "\n",
    "# Define the file path\n",
    "csv_file_path = 'memory_data.csv'\n",
    "txt_file_path = 'memory_data.txt'\n",
    "\n",
    "with open(txt_file_path, 'w') as txtfile:\n",
    "    txtfile.write(\"Memory:\\n\")\n",
    "    txtfile.write(\",\".join(map(str, memory)))\n",
    "\n",
    "# Save the cpu values in a CSV file with a single column\n",
    "with open(csv_file_path, 'w', newline='') as csvfile:\n",
    "    csvwriter = csv.writer(csvfile)\n",
    "    csvwriter.writerow(['Memory'])  # Header\n",
    "    for value in memory:\n",
    "        csvwriter.writerow([value])\n",
    "\n",
    "print(f\"Memory data saved to '{csv_file_path}'\")"
   ]
  },
  {
   "cell_type": "code",
   "execution_count": null,
   "id": "6ac0a38b",
   "metadata": {},
   "outputs": [],
   "source": []
  },
  {
   "cell_type": "code",
   "execution_count": null,
   "id": "41e92094",
   "metadata": {},
   "outputs": [],
   "source": []
  },
  {
   "cell_type": "code",
   "execution_count": null,
   "id": "611d5588",
   "metadata": {},
   "outputs": [],
   "source": [
    "# Generate 100 random double numbers between 5 and 50 with uniform distribution\n",
    "random_numbers = [round(random.uniform(5.0, 50.0), 1) for _ in range(100)]\n",
    "\n",
    "# Convert the list of random numbers to a string in a horizontal line\n",
    "horizontal_line = ' '.join(map(str, random_numbers))\n",
    "\n",
    "# Print the generated random double numbers in a horizontal line\n",
    "print(horizontal_line)"
   ]
  },
  {
   "cell_type": "code",
   "execution_count": null,
   "id": "79ae4836",
   "metadata": {},
   "outputs": [],
   "source": [
    "# Generate 100 random double numbers between 5 and 50 with uniform distribution\n",
    "random_numbers = [round(random.uniform(5.0, 50.0), 1) for _ in range(100)]\n",
    "\n",
    "# Convert the list of random numbers to a string in a horizontal line with commas\n",
    "horizontal_line = ','.join(map(str, random_numbers))\n",
    "\n",
    "# Print the generated random double numbers in a horizontal line with commas\n",
    "print(horizontal_line)"
   ]
  }
 ],
 "metadata": {
  "kernelspec": {
   "display_name": "Python 3 (ipykernel)",
   "language": "python",
   "name": "python3"
  },
  "language_info": {
   "codemirror_mode": {
    "name": "ipython",
    "version": 3
   },
   "file_extension": ".py",
   "mimetype": "text/x-python",
   "name": "python",
   "nbconvert_exporter": "python",
   "pygments_lexer": "ipython3",
   "version": "3.9.12"
  }
 },
 "nbformat": 4,
 "nbformat_minor": 5
}
