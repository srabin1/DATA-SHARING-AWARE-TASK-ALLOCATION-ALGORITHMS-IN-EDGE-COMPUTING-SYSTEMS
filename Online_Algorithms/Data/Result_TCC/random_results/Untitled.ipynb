{
 "cells": [
  {
   "cell_type": "code",
   "execution_count": 9,
   "id": "bd9b9905",
   "metadata": {},
   "outputs": [
    {
     "name": "stdout",
     "output_type": "stream",
     "text": [
      "Done. Wrote parts into: C:\\Users\\sanaz\\DataSharing_BinPacking\\Data\\Result_TCC\\random_results\n"
     ]
    }
   ],
   "source": [
    "import os\n",
    "\n",
    "# ====== CONFIGURE THESE ======\n",
    "INPUT_CSV = r\"C:\\Users\\sanaz\\DataSharing_BinPacking\\Data\\Result_TCC\\random_results\\RandomSO-Online-Sharing-Oblivious_500_3.csv\"   # <- your CSV path\n",
    "ROWS_PER_PART = 1000                                   # split size\n",
    "OUTPUT_DIR = r\"C:\\Users\\sanaz\\DataSharing_BinPacking\\Data\\Result_TCC\\random_results\"                 # where parts go (will be created)\n",
    "BASENAME = \"RandomSO-Online-Sharing-Oblivious_part\"               # output filename prefix\n",
    "# =============================\n",
    "\n",
    "os.makedirs(OUTPUT_DIR, exist_ok=True)\n",
    "\n",
    "with open(INPUT_CSV, \"r\", encoding=\"utf-8\", newline=\"\") as f:\n",
    "    lines = f.readlines()\n",
    "\n",
    "if not lines:\n",
    "    raise RuntimeError(\"Input CSV is empty.\")\n",
    "\n",
    "header = lines[0].rstrip(\"\\n\\r\")\n",
    "data_lines = [ln for ln in lines[1:]]  # keep raw (including blank lines)\n",
    "\n",
    "part_idx = 1\n",
    "row_in_part = 0\n",
    "buffer = []\n",
    "\n",
    "def flush_part():\n",
    "    global part_idx, row_in_part, buffer\n",
    "    if not buffer:\n",
    "        return\n",
    "    out_path = os.path.join(OUTPUT_DIR, f\"{BASENAME}{part_idx:02d}.csv\")\n",
    "    with open(out_path, \"w\", encoding=\"utf-8\", newline=\"\") as out:\n",
    "        #out.write(header + \"\\n\")\n",
    "        out.writelines(buffer)\n",
    "    # reset\n",
    "    part_idx += 1\n",
    "    row_in_part = 0\n",
    "    buffer = []\n",
    "\n",
    "for ln in data_lines:\n",
    "    # blank line -> dataset boundary: flush current part (if any) and start a new one\n",
    "    if ln.strip() == \"\":\n",
    "        flush_part()\n",
    "        continue\n",
    "\n",
    "    buffer.append(ln)\n",
    "    row_in_part += 1\n",
    "\n",
    "    # reached the row limit -> flush to a new file\n",
    "    if row_in_part >= ROWS_PER_PART:\n",
    "        flush_part()\n",
    "\n",
    "# write remaining rows\n",
    "flush_part()\n",
    "\n",
    "print(f\"Done. Wrote parts into: {OUTPUT_DIR}\")\n"
   ]
  },
  {
   "cell_type": "code",
   "execution_count": null,
   "id": "ef8b2534",
   "metadata": {},
   "outputs": [],
   "source": []
  }
 ],
 "metadata": {
  "kernelspec": {
   "display_name": "Python 3 (ipykernel)",
   "language": "python",
   "name": "python3"
  },
  "language_info": {
   "codemirror_mode": {
    "name": "ipython",
    "version": 3
   },
   "file_extension": ".py",
   "mimetype": "text/x-python",
   "name": "python",
   "nbconvert_exporter": "python",
   "pygments_lexer": "ipython3",
   "version": "3.9.12"
  }
 },
 "nbformat": 4,
 "nbformat_minor": 5
}
